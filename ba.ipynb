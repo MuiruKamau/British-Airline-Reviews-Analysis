{
 "cells": [
  {
   "cell_type": "code",
   "execution_count": 7,
   "metadata": {},
   "outputs": [],
   "source": [
    "# Load important module\n",
    "\n",
    "import pandas as pd\n",
    "import numpy as np\n",
    "import matplotlib.pyplot as plt\n",
    "import seaborn as sns"
   ]
  },
  {
   "cell_type": "code",
   "execution_count": 8,
   "metadata": {},
   "outputs": [],
   "source": [
    "#Loading Datasets\n",
    "\n",
    "reviews_file = r\"C:\\Users\\BENSON KAMAU\\OneDrive\\Dokumente\\Projo\\New folder\\British Airline Reviews Analysis\\ba_reviews.csv\"\n",
    "\n",
    "countries_file = r\"C:\\Users\\BENSON KAMAU\\OneDrive\\Dokumente\\Projo\\New folder\\British Airline Reviews Analysis\\Countries.csv\"\n",
    "\n",
    "ba_reviews = pd.read_csv(reviews_file)\n",
    "\n",
    "countries = pd.read_csv(countries_file)\n",
    "\n",
    "\n",
    "\n",
    "\n",
    "\n"
   ]
  },
  {
   "cell_type": "code",
   "execution_count": 17,
   "metadata": {},
   "outputs": [
    {
     "name": "stdout",
     "output_type": "stream",
     "text": [
      "BA Reviews Datasets:\n",
      "<class 'pandas.core.frame.DataFrame'>\n",
      "RangeIndex: 1324 entries, 0 to 1323\n",
      "Data columns (total 19 columns):\n",
      " #   Column               Non-Null Count  Dtype \n",
      "---  ------               --------------  ----- \n",
      " 0   header               1324 non-null   object\n",
      " 1   author               1324 non-null   object\n",
      " 2   date                 1324 non-null   object\n",
      " 3   place                1324 non-null   object\n",
      " 4   content              1324 non-null   object\n",
      " 5   aircraft             1324 non-null   object\n",
      " 6   traveller_type       1323 non-null   object\n",
      " 7   seat_type            1324 non-null   object\n",
      " 8   route                1324 non-null   object\n",
      " 9   date_flown           1324 non-null   object\n",
      " 10  recommended          1324 non-null   object\n",
      " 11  trip_verified        1324 non-null   object\n",
      " 12  rating               1324 non-null   int64 \n",
      " 13  seat_comfort         1324 non-null   int64 \n",
      " 14  cabin_staff_service  1324 non-null   int64 \n",
      " 15  food_beverages       1324 non-null   int64 \n",
      " 16  ground_service       1324 non-null   int64 \n",
      " 17  value_for_money      1324 non-null   int64 \n",
      " 18  entertainment        1324 non-null   int64 \n",
      "dtypes: int64(7), object(12)\n",
      "memory usage: 196.7+ KB\n",
      "None\n",
      "\n",
      "Head of Dataset:\n",
      "                             header               author        date  \\\n",
      "0      service was mediocre at best          Gary Storer  03/10/2023   \n",
      "1  BA standards continue to decline             A Jensen  02/10/2023   \n",
      "2      won the race to the bottom\"          John Rockett  02/10/2023   \n",
      "3            Not a reliable airline  Tatiana Bobrovskaya  02/10/2023   \n",
      "4                 Very disappointed           Tom Slowbe  28/09/2023   \n",
      "\n",
      "            place                                            content  \\\n",
      "0  United Kingdom   Just returned from Chicago, flew out 10 days ...   \n",
      "1  United Kingdom    BA standards continue to decline every time ...   \n",
      "2  United Kingdom    Awful. Business class check in queue just as...   \n",
      "3  United Kingdom    Not a reliable airline. You cannot trust the...   \n",
      "4   United States   The airplanes and the lounges are worn out, o...   \n",
      "\n",
      "           aircraft  traveller_type       seat_type  \\\n",
      "0              A380  Couple Leisure   Economy Class   \n",
      "1              A320        Business  Business Class   \n",
      "2              A320  Couple Leisure  Business Class   \n",
      "3              A320        Business   Economy Class   \n",
      "4  777-300 and A320  Couple Leisure     First Class   \n",
      "\n",
      "                                route  date_flown recommended trip_verified  \\\n",
      "0  Chicago to Manchester via Heathrow  01/10/2023          no  Not Verified   \n",
      "1           London Heathrow to Munich  01/09/2023          no      Verified   \n",
      "2                Heathrow to Istanbul  01/09/2023          no  Not Verified   \n",
      "3                    London to Geneva  01/10/2023          no      Verified   \n",
      "4    Dallas to Dubrovnik via Heathrow  01/09/2023          no      Verified   \n",
      "\n",
      "   rating  seat_comfort  cabin_staff_service  food_beverages  ground_service  \\\n",
      "0       2             2                    3               1               2   \n",
      "1       2             2                    1               2               1   \n",
      "2       2             2                    3               2               1   \n",
      "3       3             4                    4               2               1   \n",
      "4       1             1                    4               4               3   \n",
      "\n",
      "   value_for_money  entertainment  \n",
      "0                2             -1  \n",
      "1                1             -1  \n",
      "2                1             -1  \n",
      "3                1             -1  \n",
      "4                2              3  \n"
     ]
    }
   ],
   "source": [
    "#Overview of Data\n",
    "\n",
    "print(\"BA Reviews Datasets:\")\n",
    "print(ba_reviews.info())\n",
    "print(\"\\nHead of Dataset:\")\n",
    "print(ba_reviews.head())\n",
    "\n"
   ]
  },
  {
   "cell_type": "markdown",
   "metadata": {},
   "source": [
    "The dataset contains 1,324 reviews with the following key columns:\n",
    "\n",
    "- **header, content**: The title and detailed content of the review.\n",
    "- **author, place, date**: Reviewer’s details and when the review was posted.\n",
    "- **aircraft, traveller_type, seat_type, route, date_flown**: Flight details including aircraft type, type of traveler, class of seat, route, and date flown.\n",
    "- **recommended, trip_verified**: Whether the reviewer recommended the airline and if the trip is verified.\n",
    "- **rating**: Overall rating of the experience.\n",
    "- **seat_comfort, cabin_staff_service, food_beverages, ground_service, value_for_money, entertainment**: Sub-ratings for specific aspects of the experience."
   ]
  },
  {
   "cell_type": "code",
   "execution_count": 16,
   "metadata": {},
   "outputs": [
    {
     "name": "stdout",
     "output_type": "stream",
     "text": [
      "Countries Dataset\n",
      "<class 'pandas.core.frame.DataFrame'>\n",
      "RangeIndex: 251 entries, 0 to 250\n",
      "Data columns (total 4 columns):\n",
      " #   Column     Non-Null Count  Dtype \n",
      "---  ------     --------------  ----- \n",
      " 0   Country    251 non-null    object\n",
      " 1   Code       250 non-null    object\n",
      " 2   Continent  251 non-null    object\n",
      " 3   Region     251 non-null    object\n",
      "dtypes: object(4)\n",
      "memory usage: 8.0+ KB\n",
      "None\n",
      "\n",
      "Head of Dataset:\n",
      "          Country Code Continent           Region\n",
      "0     Afghanistan  AFG      Asia    Southern Asia\n",
      "1   Åland Islands  ALA    Europe  Northern Europe\n",
      "2         Albania  ALB    Europe  Southern Europe\n",
      "3         Algeria  DZA    Africa  Northern Africa\n",
      "4  American Samoa  ASM   Oceania        Polynesia\n"
     ]
    }
   ],
   "source": [
    "print(\"Countries Dataset\")\n",
    "print(countries.info())\n",
    "print(\"\\nHead of Dataset:\")\n",
    "print(countries.head())\n"
   ]
  },
  {
   "cell_type": "markdown",
   "metadata": {},
   "source": [
    "### Countries Dataset Overview\n",
    "\n",
    "The **Countries** dataset provides information related to various countries. This dataset can be used to enrich or contextualize the **ba_reviews** dataset, such as analyzing trends or reviews based on the reviewers' country of origin.\n",
    "\n",
    "\n",
    "#### Potential Uses:\n",
    "- Combine with the **ba_reviews** dataset to analyze regional trends in airline reviews.\n",
    "- Group reviews by countries to evaluate satisfaction levels and preferences by region.\n",
    "- Explore correlations between country-specific factors (e.g., GDP, population) and review trends.\n",
    "\n",
    "\n"
   ]
  },
  {
   "cell_type": "code",
   "execution_count": 23,
   "metadata": {},
   "outputs": [
    {
     "name": "stdout",
     "output_type": "stream",
     "text": [
      "header                 0\n",
      "author                 0\n",
      "date                   0\n",
      "place                  0\n",
      "content                0\n",
      "aircraft               0\n",
      "traveller_type         1\n",
      "seat_type              0\n",
      "route                  0\n",
      "date_flown             0\n",
      "recommended            0\n",
      "trip_verified          0\n",
      "rating                 0\n",
      "seat_comfort           0\n",
      "cabin_staff_service    0\n",
      "food_beverages         0\n",
      "ground_service         0\n",
      "value_for_money        0\n",
      "entertainment          0\n",
      "dtype: int64\n",
      "Country      0\n",
      "Code         1\n",
      "Continent    0\n",
      "Region       0\n",
      "dtype: int64\n"
     ]
    }
   ],
   "source": [
    "# Step 1: Check for missing values in both datasets\n",
    "missing_values_ba = ba_reviews.isnull().sum()\n",
    "print(missing_values_ba)\n",
    "\n",
    "missing_values_countries = countries.isnull().sum()\n",
    "print(missing_values_countries)"
   ]
  },
  {
   "cell_type": "code",
   "execution_count": 24,
   "metadata": {},
   "outputs": [
    {
     "data": {
      "text/html": [
       "<div>\n",
       "<style scoped>\n",
       "    .dataframe tbody tr th:only-of-type {\n",
       "        vertical-align: middle;\n",
       "    }\n",
       "\n",
       "    .dataframe tbody tr th {\n",
       "        vertical-align: top;\n",
       "    }\n",
       "\n",
       "    .dataframe thead th {\n",
       "        text-align: right;\n",
       "    }\n",
       "</style>\n",
       "<table border=\"1\" class=\"dataframe\">\n",
       "  <thead>\n",
       "    <tr style=\"text-align: right;\">\n",
       "      <th></th>\n",
       "      <th>Country</th>\n",
       "      <th>Code</th>\n",
       "      <th>Continent</th>\n",
       "      <th>Region</th>\n",
       "    </tr>\n",
       "  </thead>\n",
       "  <tbody>\n",
       "    <tr>\n",
       "      <th>196</th>\n",
       "      <td>Sark</td>\n",
       "      <td>NaN</td>\n",
       "      <td>Europe</td>\n",
       "      <td>Northern Europe</td>\n",
       "    </tr>\n",
       "  </tbody>\n",
       "</table>\n",
       "</div>"
      ],
      "text/plain": [
       "    Country Code Continent           Region\n",
       "196    Sark  NaN    Europe  Northern Europe"
      ]
     },
     "execution_count": 24,
     "metadata": {},
     "output_type": "execute_result"
    }
   ],
   "source": [
    "# Identify the row with the missing Code\n",
    "missing_code_row = countries[countries['Code'].isnull()]\n",
    "\n",
    "missing_code_row"
   ]
  },
  {
   "cell_type": "code",
   "execution_count": 26,
   "metadata": {},
   "outputs": [],
   "source": [
    "countries.loc[countries[\"Country\"] == 'Sark', 'Code'] = 'SRK'"
   ]
  },
  {
   "cell_type": "code",
   "execution_count": 27,
   "metadata": {},
   "outputs": [
    {
     "name": "stdout",
     "output_type": "stream",
     "text": [
      "Number of duplicate rows in BA Reviews: 0\n"
     ]
    }
   ],
   "source": [
    "# Check for duplicate rows\n",
    "duplicates = ba_reviews.duplicated().sum()\n",
    "print(f\"Number of duplicate rows in BA Reviews: {duplicates}\")\n"
   ]
  },
  {
   "cell_type": "code",
   "execution_count": 28,
   "metadata": {},
   "outputs": [
    {
     "name": "stdout",
     "output_type": "stream",
     "text": [
      "\n",
      "Descriptive Statistics:\n",
      "                       header     author        date           place  \\\n",
      "count                    1324       1324        1324            1324   \n",
      "unique                   1300        833         938              56   \n",
      "top     Overall a good flight  1 reviews  14/09/2016  United Kingdom   \n",
      "freq                        5         54           6             849   \n",
      "mean                      NaN        NaN         NaN             NaN   \n",
      "std                       NaN        NaN         NaN             NaN   \n",
      "min                       NaN        NaN         NaN             NaN   \n",
      "25%                       NaN        NaN         NaN             NaN   \n",
      "50%                       NaN        NaN         NaN             NaN   \n",
      "75%                       NaN        NaN         NaN             NaN   \n",
      "max                       NaN        NaN         NaN             NaN   \n",
      "\n",
      "                                                  content aircraft  \\\n",
      "count                                                1324     1324   \n",
      "unique                                               1324      150   \n",
      "top      Just returned from Chicago, flew out 10 days ...     A320   \n",
      "freq                                                    1      263   \n",
      "mean                                                  NaN      NaN   \n",
      "std                                                   NaN      NaN   \n",
      "min                                                   NaN      NaN   \n",
      "25%                                                   NaN      NaN   \n",
      "50%                                                   NaN      NaN   \n",
      "75%                                                   NaN      NaN   \n",
      "max                                                   NaN      NaN   \n",
      "\n",
      "        traveller_type      seat_type                   route  date_flown  \\\n",
      "count             1323           1324                    1324        1324   \n",
      "unique               4              4                     836          88   \n",
      "top     Couple Leisure  Economy Class  London to Johannesburg  01/04/2017   \n",
      "freq               446            604                      13          44   \n",
      "mean               NaN            NaN                     NaN         NaN   \n",
      "std                NaN            NaN                     NaN         NaN   \n",
      "min                NaN            NaN                     NaN         NaN   \n",
      "25%                NaN            NaN                     NaN         NaN   \n",
      "50%                NaN            NaN                     NaN         NaN   \n",
      "75%                NaN            NaN                     NaN         NaN   \n",
      "max                NaN            NaN                     NaN         NaN   \n",
      "\n",
      "       recommended trip_verified       rating  seat_comfort  \\\n",
      "count         1324          1324  1324.000000   1324.000000   \n",
      "unique           2             2          NaN           NaN   \n",
      "top             no      Verified          NaN           NaN   \n",
      "freq           752          1215          NaN           NaN   \n",
      "mean           NaN           NaN     4.188822      2.870091   \n",
      "std            NaN           NaN     3.253325      1.386049   \n",
      "min            NaN           NaN     1.000000     -1.000000   \n",
      "25%            NaN           NaN     1.000000      2.000000   \n",
      "50%            NaN           NaN     3.000000      3.000000   \n",
      "75%            NaN           NaN     7.000000      4.000000   \n",
      "max            NaN           NaN    10.000000      5.000000   \n",
      "\n",
      "        cabin_staff_service  food_beverages  ground_service  value_for_money  \\\n",
      "count           1324.000000     1324.000000     1324.000000      1324.000000   \n",
      "unique                  NaN             NaN             NaN              NaN   \n",
      "top                     NaN             NaN             NaN              NaN   \n",
      "freq                    NaN             NaN             NaN              NaN   \n",
      "mean               3.280211        2.381420        3.031722         2.777946   \n",
      "std                1.520592        1.697979        1.405815         1.409587   \n",
      "min               -1.000000       -1.000000       -1.000000         1.000000   \n",
      "25%                2.000000        1.000000        2.000000         1.000000   \n",
      "50%                4.000000        2.000000        3.000000         3.000000   \n",
      "75%                5.000000        4.000000        4.000000         4.000000   \n",
      "max                5.000000        5.000000        5.000000         5.000000   \n",
      "\n",
      "        entertainment  \n",
      "count     1324.000000  \n",
      "unique            NaN  \n",
      "top               NaN  \n",
      "freq              NaN  \n",
      "mean         1.435801  \n",
      "std          2.096598  \n",
      "min         -1.000000  \n",
      "25%         -1.000000  \n",
      "50%          1.000000  \n",
      "75%          3.000000  \n",
      "max          5.000000  \n"
     ]
    }
   ],
   "source": [
    "# Step 4: Descriptive Statistics\n",
    "print(\"\\nDescriptive Statistics:\")\n",
    "print(ba_reviews.describe(include='all'))"
   ]
  },
  {
   "cell_type": "markdown",
   "metadata": {},
   "source": [
    "### Key Takeaways\n",
    "- **Most Common Place**: United Kingdom (849 reviews).\n",
    "- **Most Common Aircraft**: A320 (263 reviews).\n",
    "- **Average Rating**: 4.19 (out of 10).\n",
    "\n",
    "#### Service Ratings:\n",
    "- **Cabin Staff**: Average 3.28\n",
    "- **Seat Comfort**: Average 2.87\n",
    "- **Value for Money**: Average 2.78\n",
    "- **Entertainment**: Average 1.44 (lowest-rated category).\n"
   ]
  },
  {
   "cell_type": "code",
   "execution_count": null,
   "metadata": {},
   "outputs": [],
   "source": []
  }
 ],
 "metadata": {
  "kernelspec": {
   "display_name": "base",
   "language": "python",
   "name": "python3"
  },
  "language_info": {
   "codemirror_mode": {
    "name": "ipython",
    "version": 3
   },
   "file_extension": ".py",
   "mimetype": "text/x-python",
   "name": "python",
   "nbconvert_exporter": "python",
   "pygments_lexer": "ipython3",
   "version": "3.11.5"
  }
 },
 "nbformat": 4,
 "nbformat_minor": 2
}
