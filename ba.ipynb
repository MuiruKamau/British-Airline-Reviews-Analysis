{
 "cells": [
  {
   "cell_type": "code",
   "execution_count": 7,
   "metadata": {},
   "outputs": [],
   "source": [
    "# Load important module\n",
    "\n",
    "import pandas as pd\n",
    "import numpy as np\n",
    "import matplotlib.pyplot as plt\n",
    "import seaborn as sns"
   ]
  },
  {
   "cell_type": "code",
   "execution_count": 8,
   "metadata": {},
   "outputs": [],
   "source": [
    "#Loading Datasets\n",
    "\n",
    "reviews_file = r\"C:\\Users\\BENSON KAMAU\\OneDrive\\Dokumente\\Projo\\New folder\\British Airline Reviews Analysis\\ba_reviews.csv\"\n",
    "\n",
    "countries_file = r\"C:\\Users\\BENSON KAMAU\\OneDrive\\Dokumente\\Projo\\New folder\\British Airline Reviews Analysis\\Countries.csv\"\n",
    "\n",
    "ba_reviews = pd.read_csv(reviews_file)\n",
    "\n",
    "countries = pd.read_csv(countries_file)\n",
    "\n",
    "\n",
    "\n",
    "\n",
    "\n"
   ]
  },
  {
   "cell_type": "code",
   "execution_count": 17,
   "metadata": {},
   "outputs": [
    {
     "name": "stdout",
     "output_type": "stream",
     "text": [
      "BA Reviews Datasets:\n",
      "<class 'pandas.core.frame.DataFrame'>\n",
      "RangeIndex: 1324 entries, 0 to 1323\n",
      "Data columns (total 19 columns):\n",
      " #   Column               Non-Null Count  Dtype \n",
      "---  ------               --------------  ----- \n",
      " 0   header               1324 non-null   object\n",
      " 1   author               1324 non-null   object\n",
      " 2   date                 1324 non-null   object\n",
      " 3   place                1324 non-null   object\n",
      " 4   content              1324 non-null   object\n",
      " 5   aircraft             1324 non-null   object\n",
      " 6   traveller_type       1323 non-null   object\n",
      " 7   seat_type            1324 non-null   object\n",
      " 8   route                1324 non-null   object\n",
      " 9   date_flown           1324 non-null   object\n",
      " 10  recommended          1324 non-null   object\n",
      " 11  trip_verified        1324 non-null   object\n",
      " 12  rating               1324 non-null   int64 \n",
      " 13  seat_comfort         1324 non-null   int64 \n",
      " 14  cabin_staff_service  1324 non-null   int64 \n",
      " 15  food_beverages       1324 non-null   int64 \n",
      " 16  ground_service       1324 non-null   int64 \n",
      " 17  value_for_money      1324 non-null   int64 \n",
      " 18  entertainment        1324 non-null   int64 \n",
      "dtypes: int64(7), object(12)\n",
      "memory usage: 196.7+ KB\n",
      "None\n",
      "\n",
      "Head of Dataset:\n",
      "                             header               author        date  \\\n",
      "0      service was mediocre at best          Gary Storer  03/10/2023   \n",
      "1  BA standards continue to decline             A Jensen  02/10/2023   \n",
      "2      won the race to the bottom\"          John Rockett  02/10/2023   \n",
      "3            Not a reliable airline  Tatiana Bobrovskaya  02/10/2023   \n",
      "4                 Very disappointed           Tom Slowbe  28/09/2023   \n",
      "\n",
      "            place                                            content  \\\n",
      "0  United Kingdom   Just returned from Chicago, flew out 10 days ...   \n",
      "1  United Kingdom    BA standards continue to decline every time ...   \n",
      "2  United Kingdom    Awful. Business class check in queue just as...   \n",
      "3  United Kingdom    Not a reliable airline. You cannot trust the...   \n",
      "4   United States   The airplanes and the lounges are worn out, o...   \n",
      "\n",
      "           aircraft  traveller_type       seat_type  \\\n",
      "0              A380  Couple Leisure   Economy Class   \n",
      "1              A320        Business  Business Class   \n",
      "2              A320  Couple Leisure  Business Class   \n",
      "3              A320        Business   Economy Class   \n",
      "4  777-300 and A320  Couple Leisure     First Class   \n",
      "\n",
      "                                route  date_flown recommended trip_verified  \\\n",
      "0  Chicago to Manchester via Heathrow  01/10/2023          no  Not Verified   \n",
      "1           London Heathrow to Munich  01/09/2023          no      Verified   \n",
      "2                Heathrow to Istanbul  01/09/2023          no  Not Verified   \n",
      "3                    London to Geneva  01/10/2023          no      Verified   \n",
      "4    Dallas to Dubrovnik via Heathrow  01/09/2023          no      Verified   \n",
      "\n",
      "   rating  seat_comfort  cabin_staff_service  food_beverages  ground_service  \\\n",
      "0       2             2                    3               1               2   \n",
      "1       2             2                    1               2               1   \n",
      "2       2             2                    3               2               1   \n",
      "3       3             4                    4               2               1   \n",
      "4       1             1                    4               4               3   \n",
      "\n",
      "   value_for_money  entertainment  \n",
      "0                2             -1  \n",
      "1                1             -1  \n",
      "2                1             -1  \n",
      "3                1             -1  \n",
      "4                2              3  \n"
     ]
    }
   ],
   "source": [
    "#Overview of Data\n",
    "\n",
    "print(\"BA Reviews Datasets:\")\n",
    "print(ba_reviews.info())\n",
    "print(\"\\nHead of Dataset:\")\n",
    "print(ba_reviews.head())\n",
    "\n"
   ]
  },
  {
   "cell_type": "markdown",
   "metadata": {},
   "source": [
    "The dataset contains 1,324 reviews with the following key columns:\n",
    "\n",
    "- **header, content**: The title and detailed content of the review.\n",
    "- **author, place, date**: Reviewer’s details and when the review was posted.\n",
    "- **aircraft, traveller_type, seat_type, route, date_flown**: Flight details including aircraft type, type of traveler, class of seat, route, and date flown.\n",
    "- **recommended, trip_verified**: Whether the reviewer recommended the airline and if the trip is verified.\n",
    "- **rating**: Overall rating of the experience.\n",
    "- **seat_comfort, cabin_staff_service, food_beverages, ground_service, value_for_money, entertainment**: Sub-ratings for specific aspects of the experience."
   ]
  },
  {
   "cell_type": "code",
   "execution_count": 16,
   "metadata": {},
   "outputs": [
    {
     "name": "stdout",
     "output_type": "stream",
     "text": [
      "Countries Dataset\n",
      "<class 'pandas.core.frame.DataFrame'>\n",
      "RangeIndex: 251 entries, 0 to 250\n",
      "Data columns (total 4 columns):\n",
      " #   Column     Non-Null Count  Dtype \n",
      "---  ------     --------------  ----- \n",
      " 0   Country    251 non-null    object\n",
      " 1   Code       250 non-null    object\n",
      " 2   Continent  251 non-null    object\n",
      " 3   Region     251 non-null    object\n",
      "dtypes: object(4)\n",
      "memory usage: 8.0+ KB\n",
      "None\n",
      "\n",
      "Head of Dataset:\n",
      "          Country Code Continent           Region\n",
      "0     Afghanistan  AFG      Asia    Southern Asia\n",
      "1   Åland Islands  ALA    Europe  Northern Europe\n",
      "2         Albania  ALB    Europe  Southern Europe\n",
      "3         Algeria  DZA    Africa  Northern Africa\n",
      "4  American Samoa  ASM   Oceania        Polynesia\n"
     ]
    }
   ],
   "source": [
    "print(\"Countries Dataset\")\n",
    "print(countries.info())\n",
    "print(\"\\nHead of Dataset:\")\n",
    "print(countries.head())\n"
   ]
  },
  {
   "cell_type": "markdown",
   "metadata": {},
   "source": []
  },
  {
   "cell_type": "code",
   "execution_count": null,
   "metadata": {},
   "outputs": [],
   "source": []
  },
  {
   "cell_type": "markdown",
   "metadata": {},
   "source": [
    "The dataset contains 1,324 reviews with the following key columns:\n",
    "\n",
    "- **header, content**: The title and detailed content of the review.\n",
    "- **author, place, date**: Reviewer’s details and when the review was posted.\n",
    "- **aircraft, traveller_type, seat_type, route, date_flown**: Flight details including aircraft type, type of traveler, class of seat, route, and date flown.\n",
    "- **recommended, trip_verified**: Whether the reviewer recommended the airline and if the trip is verified.\n",
    "- **rating**: Overall rating of the experience.\n",
    "- **seat_comfort, cabin_staff_service, food_beverages, ground_service, value_for_money, entertainment**: Sub-ratings for specific aspects of the experience.\n"
   ]
  },
  {
   "cell_type": "code",
   "execution_count": null,
   "metadata": {},
   "outputs": [],
   "source": []
  },
  {
   "cell_type": "code",
   "execution_count": null,
   "metadata": {},
   "outputs": [],
   "source": []
  }
 ],
 "metadata": {
  "kernelspec": {
   "display_name": "base",
   "language": "python",
   "name": "python3"
  },
  "language_info": {
   "codemirror_mode": {
    "name": "ipython",
    "version": 3
   },
   "file_extension": ".py",
   "mimetype": "text/x-python",
   "name": "python",
   "nbconvert_exporter": "python",
   "pygments_lexer": "ipython3",
   "version": "3.11.5"
  }
 },
 "nbformat": 4,
 "nbformat_minor": 2
}
